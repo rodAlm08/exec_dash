{
 "cells": [
  {
   "cell_type": "code",
   "execution_count": 3,
   "metadata": {},
   "outputs": [
    {
     "name": "stderr",
     "output_type": "stream",
     "text": [
      "C:\\Users\\rodri\\AppData\\Local\\Temp\\ipykernel_24740\\3772532449.py:29: FutureWarning: Passing literal json to 'read_json' is deprecated and will be removed in a future version. To read from a literal string, wrap it in a 'StringIO' object.\n",
      "  df = pd.read_json(response.text)\n"
     ]
    },
    {
     "name": "stdout",
     "output_type": "stream",
     "text": [
      "Data retrieved and loaded into DataFrame.\n"
     ]
    },
    {
     "ename": "OSError",
     "evalue": "[WinError 123] The filename, directory name, or volume label syntax is incorrect: 'C:\\\\Users\\\\rodri\\\\AppData\\\\Local\\\\Temp\\\\--f=c:'",
     "output_type": "error",
     "traceback": [
      "\u001b[1;31m---------------------------------------------------------------------------\u001b[0m",
      "\u001b[1;31mOSError\u001b[0m                                   Traceback (most recent call last)",
      "Cell \u001b[1;32mIn[3], line 107\u001b[0m\n\u001b[0;32m    104\u001b[0m     plt\u001b[38;5;241m.\u001b[39mclose()\n\u001b[0;32m    106\u001b[0m \u001b[38;5;28;01mif\u001b[39;00m \u001b[38;5;18m__name__\u001b[39m \u001b[38;5;241m==\u001b[39m \u001b[38;5;124m\"\u001b[39m\u001b[38;5;124m__main__\u001b[39m\u001b[38;5;124m\"\u001b[39m:\n\u001b[1;32m--> 107\u001b[0m     \u001b[43mmain\u001b[49m\u001b[43m(\u001b[49m\u001b[43marg\u001b[49m\u001b[43m)\u001b[49m\n",
      "Cell \u001b[1;32mIn[3], line 77\u001b[0m, in \u001b[0;36mmain\u001b[1;34m(arg)\u001b[0m\n\u001b[0;32m     75\u001b[0m     X_train, X_test, y_train, y_test \u001b[38;5;241m=\u001b[39m split\n\u001b[0;32m     76\u001b[0m     result \u001b[38;5;241m=\u001b[39m fit_models_and_evaluate(X_train, X_test, y_train, y_test, models, param_grids)\n\u001b[1;32m---> 77\u001b[0m     \u001b[43mplot_actual_vs_predicted\u001b[49m\u001b[43m(\u001b[49m\u001b[43mX_test\u001b[49m\u001b[43m,\u001b[49m\u001b[43m \u001b[49m\u001b[43my_test\u001b[49m\u001b[43m,\u001b[49m\u001b[43m \u001b[49m\u001b[43mresult\u001b[49m\u001b[43m,\u001b[49m\u001b[43m \u001b[49m\u001b[43mtarget_name\u001b[49m\u001b[43m,\u001b[49m\u001b[43m \u001b[49m\u001b[43marg\u001b[49m\u001b[43m)\u001b[49m\n\u001b[0;32m     78\u001b[0m     results[target_name] \u001b[38;5;241m=\u001b[39m result\n\u001b[0;32m     80\u001b[0m \u001b[38;5;66;03m# Example of how to use results, customize as needed\u001b[39;00m\n",
      "Cell \u001b[1;32mIn[3], line 102\u001b[0m, in \u001b[0;36mplot_actual_vs_predicted\u001b[1;34m(X_test, y_test, results, variable, arg)\u001b[0m\n\u001b[0;32m    100\u001b[0m plt\u001b[38;5;241m.\u001b[39mtight_layout()\n\u001b[0;32m    101\u001b[0m plot_path \u001b[38;5;241m=\u001b[39m os\u001b[38;5;241m.\u001b[39mpath\u001b[38;5;241m.\u001b[39mjoin(tempfile\u001b[38;5;241m.\u001b[39mgettempdir(), arg, \u001b[38;5;124mf\u001b[39m\u001b[38;5;124m\"\u001b[39m\u001b[38;5;132;01m{\u001b[39;00mvariable\u001b[38;5;132;01m}\u001b[39;00m\u001b[38;5;124m.png\u001b[39m\u001b[38;5;124m\"\u001b[39m)\n\u001b[1;32m--> 102\u001b[0m \u001b[43mos\u001b[49m\u001b[38;5;241;43m.\u001b[39;49m\u001b[43mmakedirs\u001b[49m\u001b[43m(\u001b[49m\u001b[43mos\u001b[49m\u001b[38;5;241;43m.\u001b[39;49m\u001b[43mpath\u001b[49m\u001b[38;5;241;43m.\u001b[39;49m\u001b[43mdirname\u001b[49m\u001b[43m(\u001b[49m\u001b[43mplot_path\u001b[49m\u001b[43m)\u001b[49m\u001b[43m,\u001b[49m\u001b[43m \u001b[49m\u001b[43mexist_ok\u001b[49m\u001b[38;5;241;43m=\u001b[39;49m\u001b[38;5;28;43;01mTrue\u001b[39;49;00m\u001b[43m)\u001b[49m\n\u001b[0;32m    103\u001b[0m plt\u001b[38;5;241m.\u001b[39msavefig(plot_path)\n\u001b[0;32m    104\u001b[0m plt\u001b[38;5;241m.\u001b[39mclose()\n",
      "File \u001b[1;32m<frozen os>:215\u001b[0m, in \u001b[0;36mmakedirs\u001b[1;34m(name, mode, exist_ok)\u001b[0m\n",
      "File \u001b[1;32m<frozen os>:215\u001b[0m, in \u001b[0;36mmakedirs\u001b[1;34m(name, mode, exist_ok)\u001b[0m\n",
      "    \u001b[1;31m[... skipping similar frames: makedirs at line 215 (4 times)]\u001b[0m\n",
      "File \u001b[1;32m<frozen os>:215\u001b[0m, in \u001b[0;36mmakedirs\u001b[1;34m(name, mode, exist_ok)\u001b[0m\n",
      "File \u001b[1;32m<frozen os>:225\u001b[0m, in \u001b[0;36mmakedirs\u001b[1;34m(name, mode, exist_ok)\u001b[0m\n",
      "\u001b[1;31mOSError\u001b[0m: [WinError 123] The filename, directory name, or volume label syntax is incorrect: 'C:\\\\Users\\\\rodri\\\\AppData\\\\Local\\\\Temp\\\\--f=c:'"
     ]
    },
    {
     "data": {
      "image/png": "[encoded data removed]",
      "text/plain": [
       "<Figure size 800x600 with 1 Axes>"
      ]
     },
     "metadata": {},
     "output_type": "display_data"
    }
   ],
   "source": [
    "import os\n",
    "import pandas as pd\n",
    "import numpy as np\n",
    "from sklearn.model_selection import train_test_split, GridSearchCV\n",
    "from sklearn.pipeline import Pipeline\n",
    "from sklearn.preprocessing import StandardScaler\n",
    "from sklearn.linear_model import LinearRegression\n",
    "from sklearn.svm import SVR\n",
    "from sklearn.ensemble import RandomForestRegressor\n",
    "from sklearn.neighbors import KNeighborsRegressor\n",
    "from sklearn.metrics import mean_squared_error\n",
    "import matplotlib.pyplot as plt\n",
    "from dotenv import load_dotenv\n",
    "import requests\n",
    "import json\n",
    "import sys\n",
    "import tempfile\n",
    "\n",
    "# Load environment variables from .env file\n",
    "load_dotenv(\"./.env\")\n",
    "\n",
    "\n",
    "arg = sys.argv[1] \n",
    "\n",
    "def fetch_and_clean_data(headers):\n",
    "    url = 'http://35.153.93.152:4000/api/dataset'\n",
    "    response = requests.get(url, headers=headers)\n",
    "    if response.status_code == 200:\n",
    "        df = pd.read_json(response.text)\n",
    "        print(\"Data retrieved and loaded into DataFrame.\")\n",
    "        return df\n",
    "    else:\n",
    "        raise Exception(f\"Failed to retrieve data, status code: {response.status_code}\")\n",
    "\n",
    "def preprocess_data(df):\n",
    "    unNeededColumns = ['_id', '_date', '_user', 'bm_HR_max', 'bm_act_steps']\n",
    "    df.drop(unNeededColumns, axis=1, inplace=True)\n",
    "    dfClean = df.dropna()\n",
    "    return dfClean\n",
    "\n",
    "def split_and_scale_data(dfClean):\n",
    "    X = dfClean.iloc[:, -3:]\n",
    "    ys = [StandardScaler().fit_transform(dfClean.iloc[:, [i]]) for i in range(6)]\n",
    "    ys = [np.ravel(y) for y in ys]  # Flatten y arrays\n",
    "    return X, ys\n",
    "\n",
    "def main(arg):\n",
    "    headers = {'Authorization': 'Bearer ' + os.getenv(\"API_SECRET_KEY\")}\n",
    "    df = fetch_and_clean_data(headers)\n",
    "    dfClean = preprocess_data(df)\n",
    "    X, ys = split_and_scale_data(dfClean)\n",
    "    \n",
    "    # Splitting data for each target variable\n",
    "    splits = [train_test_split(X, y, test_size=0.2, random_state=4217) for y in ys]\n",
    "    \n",
    "    # Models and grid definitions\n",
    "    models = {\n",
    "        'Linear Regression': LinearRegression(),\n",
    "        'SVR': SVR(),\n",
    "        'Random Forest': RandomForestRegressor(),\n",
    "        'KNN': KNeighborsRegressor()\n",
    "    }\n",
    "    \n",
    "    param_grids = {\n",
    "        'Linear Regression': {'clf__fit_intercept': [True, False]},\n",
    "        'SVR': {'clf__C': [0.1, 1, 10], 'clf__kernel': ['linear', 'rbf']},\n",
    "        'Random Forest': {'clf__n_estimators': [50, 100, 200], 'clf__max_depth': [None, 10, 20]},\n",
    "        'KNN': {'clf__n_neighbors': [3, 5, 7], 'clf__weights': ['uniform', 'distance']}\n",
    "    }\n",
    "    \n",
    "    target_names = ['y_fm_time', 'y_fm_acc', 'y_vx_time', 'y_vx_shot_acc', 'y_vx_trg_acc', 'y_au_time']\n",
    "    results = {}\n",
    "    \n",
    "    for target_name, split in zip(target_names, splits):\n",
    "        X_train, X_test, y_train, y_test = split\n",
    "        result = fit_models_and_evaluate(X_train, X_test, y_train, y_test, models, param_grids)\n",
    "        plot_actual_vs_predicted(X_test, y_test, result, target_name, arg)\n",
    "        results[target_name] = result\n",
    "    \n",
    "    # Example of how to use results, customize as needed\n",
    "    print(results)\n",
    "\n",
    "def fit_models_and_evaluate(X_train, X_test, y_train, y_test, models, param_grids):\n",
    "    results = {}\n",
    "    for model_name, model in models.items():\n",
    "        pipe = Pipeline([('scaler', StandardScaler()), ('clf', model)])\n",
    "        grid_search = GridSearchCV(pipe, param_grids[model_name], cv=5, scoring='neg_mean_squared_error')\n",
    "        grid_search.fit(X_train, y_train)\n",
    "        y_pred = grid_search.predict(X_test)\n",
    "        mse = mean_squared_error(y_test, y_pred)\n",
    "        results[model_name] = {'MSE': mse}\n",
    "    return results\n",
    "\n",
    "def plot_actual_vs_predicted(X_test, y_test, results, variable, arg):\n",
    "    plt.figure(figsize=(8, 6))\n",
    "    # Placeholder for actual plotting, customize with your actual vs. predicted logic\n",
    "    plt.title(f'Actual vs Predicted for {variable}')\n",
    "    plt.xlabel('Index')\n",
    "    plt.ylabel('Value')\n",
    "    plt.tight_layout()\n",
    "    plot_path = os.path.join(tempfile.gettempdir(), arg, f\"{variable}.png\")\n",
    "    os.makedirs(os.path.dirname(plot_path), exist_ok=True)\n",
    "    plt.savefig(plot_path)\n",
    "    plt.close()\n",
    "\n",
    "if __name__ == \"__main__\":\n",
    "    main(arg)\n"
   ]
  }
 ],
 "metadata": {
  "kernelspec": {
   "display_name": "Python 3",
   "language": "python",
   "name": "python3"
  },
  "language_info": {
   "codemirror_mode": {
    "name": "ipython",
    "version": 3
   },
   "file_extension": ".py",
   "mimetype": "text/x-python",
   "name": "python",
   "nbconvert_exporter": "python",
   "pygments_lexer": "ipython3",
   "version": "3.11.7"
  }
 },
 "nbformat": 4,
 "nbformat_minor": 2
}
